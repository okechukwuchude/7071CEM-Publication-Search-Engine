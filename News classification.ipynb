{
 "cells": [
  {
   "cell_type": "code",
   "execution_count": 1,
   "id": "3433c738-8536-4c90-a00c-f6189cab3c4a",
   "metadata": {},
   "outputs": [],
   "source": [
    "import pandas as pd\n",
    "import numpy as np\n",
    "import matplotlib.pyplot as plt\n",
    "%matplotlib inline"
   ]
  },
  {
   "cell_type": "code",
   "execution_count": 2,
   "id": "c77ca9c1-4520-4680-9335-267c19b3258a",
   "metadata": {},
   "outputs": [],
   "source": [
    "news_text = pd.read_csv(r\"C:\\Users\\okechukwu chude\\Documents\\Information Retrival\\7071CEM-Publication-Search-Engine\\bbc-text.csv\")"
   ]
  },
  {
   "cell_type": "code",
   "execution_count": 3,
   "id": "e5dd5be0-c6ca-414c-850a-39d48d173ac5",
   "metadata": {},
   "outputs": [
    {
     "data": {
      "text/html": [
       "<div>\n",
       "<style scoped>\n",
       "    .dataframe tbody tr th:only-of-type {\n",
       "        vertical-align: middle;\n",
       "    }\n",
       "\n",
       "    .dataframe tbody tr th {\n",
       "        vertical-align: top;\n",
       "    }\n",
       "\n",
       "    .dataframe thead th {\n",
       "        text-align: right;\n",
       "    }\n",
       "</style>\n",
       "<table border=\"1\" class=\"dataframe\">\n",
       "  <thead>\n",
       "    <tr style=\"text-align: right;\">\n",
       "      <th></th>\n",
       "      <th>category</th>\n",
       "      <th>text</th>\n",
       "    </tr>\n",
       "  </thead>\n",
       "  <tbody>\n",
       "    <tr>\n",
       "      <th>0</th>\n",
       "      <td>tech</td>\n",
       "      <td>tv future in the hands of viewers with home th...</td>\n",
       "    </tr>\n",
       "    <tr>\n",
       "      <th>1</th>\n",
       "      <td>business</td>\n",
       "      <td>worldcom boss  left books alone  former worldc...</td>\n",
       "    </tr>\n",
       "    <tr>\n",
       "      <th>2</th>\n",
       "      <td>sport</td>\n",
       "      <td>tigers wary of farrell  gamble  leicester say ...</td>\n",
       "    </tr>\n",
       "    <tr>\n",
       "      <th>3</th>\n",
       "      <td>sport</td>\n",
       "      <td>yeading face newcastle in fa cup premiership s...</td>\n",
       "    </tr>\n",
       "    <tr>\n",
       "      <th>4</th>\n",
       "      <td>entertainment</td>\n",
       "      <td>ocean s twelve raids box office ocean s twelve...</td>\n",
       "    </tr>\n",
       "  </tbody>\n",
       "</table>\n",
       "</div>"
      ],
      "text/plain": [
       "        category                                               text\n",
       "0           tech  tv future in the hands of viewers with home th...\n",
       "1       business  worldcom boss  left books alone  former worldc...\n",
       "2          sport  tigers wary of farrell  gamble  leicester say ...\n",
       "3          sport  yeading face newcastle in fa cup premiership s...\n",
       "4  entertainment  ocean s twelve raids box office ocean s twelve..."
      ]
     },
     "execution_count": 3,
     "metadata": {},
     "output_type": "execute_result"
    }
   ],
   "source": [
    "news_text.head(5)"
   ]
  },
  {
   "cell_type": "code",
   "execution_count": 4,
   "id": "fa4b0941-8150-4b02-901d-5ef6807d86a5",
   "metadata": {},
   "outputs": [
    {
     "data": {
      "text/plain": [
       "array(['tech', 'business', 'sport', 'entertainment', 'politics'],\n",
       "      dtype=object)"
      ]
     },
     "execution_count": 4,
     "metadata": {},
     "output_type": "execute_result"
    }
   ],
   "source": [
    "news_text.category.unique()"
   ]
  },
  {
   "cell_type": "code",
   "execution_count": 5,
   "id": "69d97a97-2545-4035-9e93-39473f4a76dd",
   "metadata": {},
   "outputs": [
    {
     "data": {
      "text/plain": [
       "category    0\n",
       "text        0\n",
       "dtype: int64"
      ]
     },
     "execution_count": 5,
     "metadata": {},
     "output_type": "execute_result"
    }
   ],
   "source": [
    "news_text.isna().sum()"
   ]
  },
  {
   "cell_type": "code",
   "execution_count": 6,
   "id": "8d0b2bc8-cec8-4e85-8dfc-a7d4170380a6",
   "metadata": {},
   "outputs": [
    {
     "data": {
      "image/png": "[encoded data removed]",
      "text/plain": [
       "<Figure size 640x480 with 1 Axes>"
      ]
     },
     "metadata": {},
     "output_type": "display_data"
    }
   ],
   "source": [
    "news_text['category'].value_counts().plot(kind='bar')\n",
    "plt.title('Articles Per Catagory', size=10, pad=10);"
   ]
  },
  {
   "cell_type": "markdown",
   "id": "8b6d86a0-fe15-4164-ae79-be862d88f2da",
   "metadata": {},
   "source": [
    "Text Preprocessing"
   ]
  },
  {
   "cell_type": "code",
   "execution_count": 7,
   "id": "29fcae14-f829-4560-889b-fec61957a85d",
   "metadata": {},
   "outputs": [],
   "source": [
    "from nltk.tokenize import word_tokenize\n",
    "from nltk.stem import WordNetLemmatizer\n",
    "from nltk.corpus import stopwords, wordnet\n",
    "from nltk import pos_tag\n",
    "import string\n",
    "import nltk"
   ]
  },
  {
   "cell_type": "code",
   "execution_count": 8,
   "id": "67077741-fadc-4821-8059-4dbf1b5ff1f7",
   "metadata": {},
   "outputs": [],
   "source": [
    "def preprocess_data(data_frame):\n",
    "    # Replace newline and carriage return characters with spaces\n",
    "    data_frame['cleaned_text'] = data_frame['text'].replace('\\n', ' ')\n",
    "    data_frame['cleaned_text'] = data_frame['cleaned_text'].replace('\\r', ' ')\n",
    "\n",
    "    # Convert text to lowercase\n",
    "    data_frame['cleaned_text'] = data_frame['cleaned_text'].str.lower()\n",
    "\n",
    "    # Remove punctuation\n",
    "    punctuation = string.punctuation\n",
    "    data_frame['cleaned_text'] = data_frame['cleaned_text'].str.translate(str.maketrans('', '', punctuation))\n",
    "\n",
    "    # Stop words removal and lemmatization\n",
    "    stop_words = set(stopwords.words(\"english\"))\n",
    "    lemmatizer = WordNetLemmatizer()\n",
    "\n",
    "    def get_word_net_tag(word):\n",
    "        tag = pos_tag([word])[0][1][0].upper()\n",
    "        tag_mapping = {\"N\": wordnet.NOUN, \"R\": wordnet.ADV, \"V\": wordnet.VERB, \"J\": wordnet.ADJ}\n",
    "        return tag_mapping.get(tag, wordnet.NOUN)\n",
    "\n",
    "    def lemmatize_text(text):\n",
    "        tokens = nltk.word_tokenize(text)\n",
    "        processed_text = \"\"\n",
    "        for word in tokens:\n",
    "            if word not in stop_words:\n",
    "                processed_text += lemmatizer.lemmatize(word, get_word_net_tag(word)) + \" \"\n",
    "        return processed_text\n",
    "\n",
    "    data_frame['lemmatized_text'] = data_frame['cleaned_text'].apply(lemmatize_text)\n"
   ]
  },
  {
   "cell_type": "code",
   "execution_count": 9,
   "id": "1e51cb52-695f-44e1-a304-fea1b19437eb",
   "metadata": {},
   "outputs": [],
   "source": [
    "preprocess_data(news_text)"
   ]
  },
  {
   "cell_type": "code",
   "execution_count": 10,
   "id": "49450680-6cc7-447a-93c4-bfee95c60456",
   "metadata": {},
   "outputs": [
    {
     "data": {
      "text/plain": [
       "'worldcom boss  left books alone  former worldcom boss bernie ebbers  who is accused of overseeing an $11bn (£5.8bn) fraud  never made accounting decisions  a witness has told jurors.  david myers made the comments under questioning by defence lawyers who have been arguing that mr ebbers was not responsible for worldcom s problems. the phone company collapsed in 2002 and prosecutors claim that losses were hidden to protect the firm s shares. mr myers has already pleaded guilty to fraud and is assisting prosecutors.  on monday  defence lawyer reid weingarten tried to distance his client from the allegations. during cross examination  he asked mr myers if he ever knew mr ebbers  make an accounting decision  .  not that i am aware of   mr myers replied.  did you ever know mr ebbers to make an accounting entry into worldcom books   mr weingarten pressed.  no   replied the witness. mr myers has admitted that he ordered false accounting entries at the request of former worldcom chief financial officer scott sullivan. defence lawyers have been trying to paint mr sullivan  who has admitted fraud and will testify later in the trial  as the mastermind behind worldcom s accounting house of cards.  mr ebbers  team  meanwhile  are looking to portray him as an affable boss  who by his own admission is more pe graduate than economist. whatever his abilities  mr ebbers transformed worldcom from a relative unknown into a $160bn telecoms giant and investor darling of the late 1990s. worldcom s problems mounted  however  as competition increased and the telecoms boom petered out. when the firm finally collapsed  shareholders lost about $180bn and 20 000 workers lost their jobs. mr ebbers  trial is expected to last two months and if found guilty the former ceo faces a substantial jail sentence. he has firmly declared his innocence.'"
      ]
     },
     "execution_count": 10,
     "metadata": {},
     "output_type": "execute_result"
    }
   ],
   "source": [
    "news_text.iloc[1]['text']"
   ]
  },
  {
   "cell_type": "code",
   "execution_count": 11,
   "id": "4c56cf28-8f43-42dd-a88d-04b632dfd952",
   "metadata": {},
   "outputs": [
    {
     "data": {
      "text/plain": [
       "'worldcom boss  left books alone  former worldcom boss bernie ebbers  who is accused of overseeing an 11bn £58bn fraud  never made accounting decisions  a witness has told jurors  david myers made the comments under questioning by defence lawyers who have been arguing that mr ebbers was not responsible for worldcom s problems the phone company collapsed in 2002 and prosecutors claim that losses were hidden to protect the firm s shares mr myers has already pleaded guilty to fraud and is assisting prosecutors  on monday  defence lawyer reid weingarten tried to distance his client from the allegations during cross examination  he asked mr myers if he ever knew mr ebbers  make an accounting decision    not that i am aware of   mr myers replied  did you ever know mr ebbers to make an accounting entry into worldcom books   mr weingarten pressed  no   replied the witness mr myers has admitted that he ordered false accounting entries at the request of former worldcom chief financial officer scott sullivan defence lawyers have been trying to paint mr sullivan  who has admitted fraud and will testify later in the trial  as the mastermind behind worldcom s accounting house of cards  mr ebbers  team  meanwhile  are looking to portray him as an affable boss  who by his own admission is more pe graduate than economist whatever his abilities  mr ebbers transformed worldcom from a relative unknown into a 160bn telecoms giant and investor darling of the late 1990s worldcom s problems mounted  however  as competition increased and the telecoms boom petered out when the firm finally collapsed  shareholders lost about 180bn and 20 000 workers lost their jobs mr ebbers  trial is expected to last two months and if found guilty the former ceo faces a substantial jail sentence he has firmly declared his innocence'"
      ]
     },
     "execution_count": 11,
     "metadata": {},
     "output_type": "execute_result"
    }
   ],
   "source": [
    "news_text.iloc[1]['cleaned_text']"
   ]
  },
  {
   "cell_type": "markdown",
   "id": "92eee316-0135-4cb0-805b-9f118397fc7c",
   "metadata": {},
   "source": [
    "Splitting The Data"
   ]
  },
  {
   "cell_type": "code",
   "execution_count": 12,
   "id": "f2fc433a-1519-45d6-8f95-dfff4f191af2",
   "metadata": {},
   "outputs": [
    {
     "name": "stdout",
     "output_type": "stream",
     "text": [
      "407     bush to get  tough  on deficit us president ge...\n",
      "1065    bellamy under new fire newcastle boss graeme s...\n",
      "1141    mandelson warns bbc on campbell the bbc should...\n",
      "987     john peel replacement show begins the permanen...\n",
      "2145    wales coach elated with win mike ruddock paid ...\n",
      "                              ...                        \n",
      "960     fed warns of more us rate rises the us looks s...\n",
      "905     bets off after big brother  leak  a bookmaker ...\n",
      "1096    internet boom for gift shopping cyberspace is ...\n",
      "235     consumer spending lifts us growth us economic ...\n",
      "1061    t in the park sells out in days tickets for sc...\n",
      "Name: text, Length: 1557, dtype: object\n",
      "407          business\n",
      "1065            sport\n",
      "1141         politics\n",
      "987     entertainment\n",
      "2145            sport\n",
      "            ...      \n",
      "960          business\n",
      "905     entertainment\n",
      "1096             tech\n",
      "235          business\n",
      "1061    entertainment\n",
      "Name: category, Length: 1557, dtype: object\n"
     ]
    }
   ],
   "source": [
    "X = news_text.text\n",
    "y = news_text.category\n",
    "\n",
    "#split\n",
    "from sklearn.model_selection import train_test_split\n",
    "X_train, X_test, y_train, y_test = train_test_split(X, y, train_size = 0.7, random_state = 1)\n",
    "print(X_train)\n",
    "print(y_train)"
   ]
  },
  {
   "cell_type": "markdown",
   "id": "5423a9c8-c068-4715-ab7f-a0a7b0e90a00",
   "metadata": {},
   "source": [
    "Vectorization "
   ]
  },
  {
   "cell_type": "code",
   "execution_count": 13,
   "id": "bfa3cf57-d785-44fa-8d24-29e4f3bf4b07",
   "metadata": {},
   "outputs": [],
   "source": [
    "from sklearn.feature_extraction.text import TfidfVectorizer\n",
    "\n",
    "custom_vectorizer = TfidfVectorizer(stop_words='english', ngram_range=(1, 2), min_df=3, max_df=1.0, max_features=10000)\n"
   ]
  },
  {
   "cell_type": "markdown",
   "id": "c4a2ab92-ee77-4bfd-8556-ca8adcaf73a3",
   "metadata": {},
   "source": [
    "Building the model"
   ]
  },
  {
   "cell_type": "code",
   "execution_count": 14,
   "id": "af8be20f-a3fc-4a2e-9762-84109958e81b",
   "metadata": {},
   "outputs": [],
   "source": [
    "from sklearn.model_selection import cross_validate, KFold\n",
    "from sklearn.pipeline import Pipeline"
   ]
  },
  {
   "cell_type": "code",
   "execution_count": 15,
   "id": "33304cf7-e5e9-4ff8-b81a-63fa6a24d609",
   "metadata": {},
   "outputs": [
    {
     "name": "stdout",
     "output_type": "stream",
     "text": [
      "{'fit_time': array([0.83332276, 0.84872293, 0.83356452]), 'score_time': array([0.23400855, 0.22008371, 0.23397422]), 'test_accuracy': array([0.97880539, 0.95568401, 0.97687861]), 'train_accuracy': array([0.99132948, 0.98747592, 0.9894027 ]), 'test_f1_weighted': array([0.97867427, 0.95567726, 0.97688582]), 'train_f1_weighted': array([0.99133636, 0.98746119, 0.98939869]), 'test_precision_weighted': array([0.97882568, 0.95666718, 0.97710753]), 'train_precision_weighted': array([0.99137797, 0.9875388 , 0.9894093 ]), 'test_recall_weighted': array([0.97880539, 0.95568401, 0.97687861]), 'train_recall_weighted': array([0.99132948, 0.98747592, 0.9894027 ])}\n"
     ]
    }
   ],
   "source": [
    "from sklearn.naive_bayes import MultinomialNB\n",
    "\n",
    "# Assuming custom_vectorizer and X_train, y_train are defined earlier\n",
    "\n",
    "def train_and_evaluate_with_naive_bayes():\n",
    "    custom_model = MultinomialNB()\n",
    "    custom_model_name = 'naive_bayes'\n",
    "    \n",
    "    custom_pipeline = Pipeline([('custom_vectorize', custom_vectorizer), (custom_model_name, custom_model)])\n",
    "    \n",
    "    evaluation_results = cross_validate(custom_pipeline,\n",
    "                                       X_train,\n",
    "                                       y_train,\n",
    "                                       cv=KFold(shuffle=True, n_splits=3, random_state=9),\n",
    "                                       scoring=('accuracy', 'f1_weighted', 'precision_weighted', 'recall_weighted'),\n",
    "                                       return_train_score=True)\n",
    "    \n",
    "    return evaluation_results\n",
    "\n",
    "# Call the function to train and evaluate the pipeline with Naive Bayes\n",
    "results_with_naive_bayes = train_and_evaluate_with_naive_bayes()\n",
    "print(results_with_naive_bayes)\n"
   ]
  },
  {
   "cell_type": "code",
   "execution_count": null,
   "id": "993fa57e-7f9d-40f0-8477-cf003d7ae334",
   "metadata": {},
   "outputs": [],
   "source": []
  }
 ],
 "metadata": {
  "kernelspec": {
   "display_name": "Python 3 (ipykernel)",
   "language": "python",
   "name": "python3"
  },
  "language_info": {
   "codemirror_mode": {
    "name": "ipython",
    "version": 3
   },
   "file_extension": ".py",
   "mimetype": "text/x-python",
   "name": "python",
   "nbconvert_exporter": "python",
   "pygments_lexer": "ipython3",
   "version": "3.11.4"
  }
 },
 "nbformat": 4,
 "nbformat_minor": 5
}
