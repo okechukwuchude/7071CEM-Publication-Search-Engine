{
 "cells": [
  {
   "cell_type": "code",
   "execution_count": null,
   "id": "3433c738-8536-4c90-a00c-f6189cab3c4a",
   "metadata": {},
   "outputs": [],
   "source": [
    "import pandas as pd\n",
    "import numpy as np\n",
    "import matplotlib.pyplot as plt\n",
    "import tkinter as tk\n",
    "from tkinter import ttk\n",
    "from tkinter import scrolledtext\n",
    "%matplotlib inline"
   ]
  },
  {
   "cell_type": "code",
   "execution_count": null,
   "id": "c77ca9c1-4520-4680-9335-267c19b3258a",
   "metadata": {},
   "outputs": [],
   "source": [
    "news_text = pd.read_csv(r\"C:\\Users\\okechukwu chude\\Documents\\Information Retrival\\7071CEM-Publication-Search-Engine\\bbc-text.csv\")"
   ]
  },
  {
   "cell_type": "code",
   "execution_count": null,
   "id": "e5dd5be0-c6ca-414c-850a-39d48d173ac5",
   "metadata": {},
   "outputs": [],
   "source": [
    "news_text.head(5)"
   ]
  },
  {
   "cell_type": "code",
   "execution_count": null,
   "id": "fa4b0941-8150-4b02-901d-5ef6807d86a5",
   "metadata": {},
   "outputs": [],
   "source": [
    "news_text.category.unique()"
   ]
  },
  {
   "cell_type": "code",
   "execution_count": null,
   "id": "69d97a97-2545-4035-9e93-39473f4a76dd",
   "metadata": {},
   "outputs": [],
   "source": [
    "news_text.isna().sum()"
   ]
  },
  {
   "cell_type": "code",
   "execution_count": null,
   "id": "8d0b2bc8-cec8-4e85-8dfc-a7d4170380a6",
   "metadata": {},
   "outputs": [],
   "source": [
    "news_text['category'].value_counts().plot(kind='bar')\n",
    "plt.title('Articles Per Catagory', size=10, pad=10);"
   ]
  },
  {
   "cell_type": "markdown",
   "id": "92eee316-0135-4cb0-805b-9f118397fc7c",
   "metadata": {},
   "source": [
    "Splitting The Data"
   ]
  },
  {
   "cell_type": "code",
   "execution_count": null,
   "id": "f2fc433a-1519-45d6-8f95-dfff4f191af2",
   "metadata": {},
   "outputs": [],
   "source": [
    "X = news_text.text\n",
    "y = news_text.category\n",
    "\n",
    "#split\n",
    "from sklearn.model_selection import train_test_split\n",
    "X_train, X_test, y_train, y_test = train_test_split(X, y, train_size = 0.7, random_state = 1)\n",
    "print(X_train)\n",
    "print(y_train)"
   ]
  },
  {
   "cell_type": "markdown",
   "id": "239db329-ac48-4a36-9197-5de459c14613",
   "metadata": {},
   "source": [
    "vectorization"
   ]
  },
  {
   "cell_type": "code",
   "execution_count": null,
   "id": "d9102265-df2f-43f0-ab71-7cba58e68201",
   "metadata": {},
   "outputs": [],
   "source": [
    "from sklearn.feature_extraction.text import CountVectorizer\n",
    "vectorizer = CountVectorizer(stop_words = 'english')"
   ]
  },
  {
   "cell_type": "code",
   "execution_count": null,
   "id": "81d843cc-27a9-40f0-a50b-a58446dc8e2c",
   "metadata": {
    "scrolled": true
   },
   "outputs": [],
   "source": [
    "# fit the vectorizer on the training data\n",
    "\n",
    "vectorizer.fit(X_train)\n",
    "\n",
    "print(len(vectorizer.get_feature_names_out()))\n",
    "print(vectorizer.vocabulary_)"
   ]
  },
  {
   "cell_type": "code",
   "execution_count": null,
   "id": "c5c7fb0a-cccf-4217-af38-6f9a5d0802fb",
   "metadata": {},
   "outputs": [],
   "source": [
    "####training data#######\n",
    "X_transformed = vectorizer.transform(X_train)\n",
    "X_transformed"
   ]
  },
  {
   "cell_type": "code",
   "execution_count": null,
   "id": "d83e734f-c8fc-435f-a6ef-98a919eb32e2",
   "metadata": {},
   "outputs": [],
   "source": [
    "X_transformed.toarray()"
   ]
  },
  {
   "cell_type": "code",
   "execution_count": null,
   "id": "a06c5513-1e1a-47b7-9b7e-55f9b03daf30",
   "metadata": {},
   "outputs": [],
   "source": [
    "# for test data\n",
    "X_test_transformed = vectorizer.transform(X_test)\n",
    "X_test_transformed"
   ]
  },
  {
   "cell_type": "markdown",
   "id": "ceccec15-f917-461f-bc18-0a2d29bb345f",
   "metadata": {},
   "source": [
    "Building The model"
   ]
  },
  {
   "cell_type": "code",
   "execution_count": null,
   "id": "461263de-8560-484e-bc58-2e16294e7980",
   "metadata": {},
   "outputs": [],
   "source": [
    "from sklearn.naive_bayes import MultinomialNB\n",
    "\n",
    "nb = MultinomialNB()\n",
    "nb.fit(X_transformed, y_train)"
   ]
  },
  {
   "cell_type": "code",
   "execution_count": null,
   "id": "933a90f9-1d4a-466e-a7df-6831bff5d2e3",
   "metadata": {},
   "outputs": [],
   "source": [
    "# fit\n",
    "nb.fit(X_transformed,y_train)\n",
    "\n",
    "# predict class\n",
    "y_pred_class = nb.predict(X_test_transformed)\n",
    "\n",
    "# predict probabilities\n",
    "y_pred_proba = nb.predict_proba(X_test_transformed)"
   ]
  },
  {
   "cell_type": "markdown",
   "id": "4286fed3-c03d-44f2-94c9-71f6c724178a",
   "metadata": {},
   "source": [
    "Performance Evaluation"
   ]
  },
  {
   "cell_type": "code",
   "execution_count": null,
   "id": "357afde0-7e5f-40b7-aa83-acc72cf8a5ce",
   "metadata": {},
   "outputs": [],
   "source": [
    "# printing the overall accuracy\n",
    "from sklearn import metrics\n",
    "print(\"Accuracy SCORE :\", metrics.accuracy_score(y_test, y_pred_class)*100)"
   ]
  },
  {
   "cell_type": "code",
   "execution_count": null,
   "id": "ecc7ac42-64c1-4b79-bd2d-3afb24f430de",
   "metadata": {},
   "outputs": [],
   "source": [
    "print(\"PRECISION SCORE :\",metrics.precision_score(y_test, y_pred_class, average = 'micro')*100)\n",
    "print(\"RECALL SCORE :\", metrics.recall_score(y_test, y_pred_class, average = 'micro')*100)\n",
    "print(\"F1 SCORE :\",metrics.f1_score(y_test, y_pred_class, average = 'micro')*100)"
   ]
  },
  {
   "cell_type": "code",
   "execution_count": null,
   "metadata": {},
   "outputs": [],
   "source": [
    "import seaborn as sns\n",
    "from sklearn.metrics import confusion_matrix\n",
    "import matplotlib.pyplot as plt\n",
    "\n",
    "# Confusion Matrix\n",
    "cm = confusion_matrix(y_test, y_pred_class)\n",
    "categories = news_text['category'].unique()\n",
    "\n",
    "# Plotting\n",
    "plt.figure(figsize=(8, 6))\n",
    "sns.heatmap(cm, annot=True, fmt='d', cmap='Blues', xticklabels=categories, yticklabels=categories)\n",
    "plt.title('Confusion Matrix')\n",
    "plt.xlabel('Predicted')\n",
    "plt.ylabel('Actual')\n",
    "plt.show()\n"
   ]
  },
  {
   "cell_type": "markdown",
   "id": "46df90db-c5ea-408c-b0f8-7c20d1d2cfb9",
   "metadata": {},
   "source": [
    "Testing model"
   ]
  },
  {
   "cell_type": "code",
   "execution_count": null,
   "id": "a4dcaa1a-ca4a-4f41-b3a3-7cefd4fa0013",
   "metadata": {},
   "outputs": [],
   "source": [
    "s1 = [\"Luke Donald to remain Europe's Ryder Cup captain for 2025 edition in New York\"]\n",
    "vec1 = vectorizer.transform(s1).toarray()\n",
    "print('Headline:' ,s1)\n",
    "print(str(list(nb.predict(vec1))[0]).replace('0', 'TECH').replace('1', 'BUSINESS').replace('2', 'SPORTS').replace('3','ENTERTAINMENT').replace('4','POLITICS'))"
   ]
  },
  {
   "cell_type": "code",
   "execution_count": null,
   "id": "c1ff9f7f-44ae-4258-984b-49840c068cd2",
   "metadata": {},
   "outputs": [],
   "source": [
    "# UI Function for Prediction\n",
    "def predict_category():\n",
    "    input_text = text_entry.get(\"1.0\", \"end-1c\")\n",
    "    input_transformed = vectorizer.transform([input_text])\n",
    "    result = nb.predict(input_transformed)[0]\n",
    "    result_label.config(text=f\"Predicted Category: {result}\")\n",
    "\n",
    "# Create UI\n",
    "root = tk.Tk()\n",
    "root.title(\"Text Category Prediction\")\n",
    "\n",
    "# Text Entry\n",
    "text_entry_label = tk.Label(root, text=\"Paste Text Here:\")\n",
    "text_entry_label.pack()\n",
    "\n",
    "text_entry = scrolledtext.ScrolledText(root, width=50, height=10)\n",
    "text_entry.pack()\n",
    "\n",
    "# Button for Prediction\n",
    "predict_button = tk.Button(root, text=\"Predict Category\", command=predict_category)\n",
    "predict_button.pack()\n",
    "\n",
    "# Result Label\n",
    "result_label = tk.Label(root, text=\"\")\n",
    "result_label.pack()\n",
    "\n",
    "root.mainloop()\n"
   ]
  },
  {
   "cell_type": "code",
   "execution_count": null,
   "id": "5c010799-d7be-4ba9-ad9e-a0c3e5bf8602",
   "metadata": {},
   "outputs": [],
   "source": []
  }
 ],
 "metadata": {
  "kernelspec": {
   "display_name": "Python 3 (ipykernel)",
   "language": "python",
   "name": "python3"
  },
  "language_info": {
   "codemirror_mode": {
    "name": "ipython",
    "version": 3
   },
   "file_extension": ".py",
   "mimetype": "text/x-python",
   "name": "python",
   "nbconvert_exporter": "python",
   "pygments_lexer": "ipython3",
   "version": "3.11.4"
  }
 },
 "nbformat": 4,
 "nbformat_minor": 5
}
